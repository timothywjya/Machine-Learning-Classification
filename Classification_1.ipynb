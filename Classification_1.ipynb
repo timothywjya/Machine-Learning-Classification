{
  "nbformat": 4,
  "nbformat_minor": 0,
  "metadata": {
    "colab": {
      "name": "Classification-1.ipynb",
      "provenance": [],
      "collapsed_sections": []
    },
    "kernelspec": {
      "name": "python3",
      "display_name": "Python 3"
    },
    "accelerator": "GPU"
  },
  "cells": [
    {
      "cell_type": "code",
      "metadata": {
        "id": "UypcUxJ-YLgB",
        "outputId": "292902ad-eb9a-488c-99bf-a82d6df42250",
        "colab": {
          "base_uri": "https://localhost:8080/",
          "height": 158
        }
      },
      "source": [
        "#mengambil dataset dari keras dataset <- dataset fashion\n",
        "from keras.datasets import fashion_mnist\n",
        "(train_X, train_Y), (test_X, test_Y) = fashion_mnist.load_data()"
      ],
      "execution_count": 1,
      "outputs": [
        {
          "output_type": "stream",
          "text": [
            "Downloading data from https://storage.googleapis.com/tensorflow/tf-keras-datasets/train-labels-idx1-ubyte.gz\n",
            "32768/29515 [=================================] - 0s 0us/step\n",
            "Downloading data from https://storage.googleapis.com/tensorflow/tf-keras-datasets/train-images-idx3-ubyte.gz\n",
            "26427392/26421880 [==============================] - 0s 0us/step\n",
            "Downloading data from https://storage.googleapis.com/tensorflow/tf-keras-datasets/t10k-labels-idx1-ubyte.gz\n",
            "8192/5148 [===============================================] - 0s 0us/step\n",
            "Downloading data from https://storage.googleapis.com/tensorflow/tf-keras-datasets/t10k-images-idx3-ubyte.gz\n",
            "4423680/4422102 [==============================] - 0s 0us/step\n"
          ],
          "name": "stdout"
        }
      ]
    },
    {
      "cell_type": "code",
      "metadata": {
        "id": "cwzSA09PiaKf"
      },
      "source": [
        "import numpy as np\n",
        "from keras.utils import to_categorical\n",
        "import matplotlib.pyplot as plt"
      ],
      "execution_count": 2,
      "outputs": []
    },
    {
      "cell_type": "code",
      "metadata": {
        "id": "oWKfxqvZioO9",
        "outputId": "71a6ceae-a5d2-44b8-d6f1-9d46913c5892",
        "colab": {
          "base_uri": "https://localhost:8080/",
          "height": 34
        }
      },
      "source": [
        "print('Training Data: ', train_X.shape, train_Y.shape)"
      ],
      "execution_count": 13,
      "outputs": [
        {
          "output_type": "stream",
          "text": [
            "Training Data:  (60000, 28, 28) (60000,)\n"
          ],
          "name": "stdout"
        }
      ]
    },
    {
      "cell_type": "code",
      "metadata": {
        "id": "1KqvMl6ei19_",
        "outputId": "914e3351-59e2-4a9e-9498-1f94f6b4b7ed",
        "colab": {
          "base_uri": "https://localhost:8080/",
          "height": 34
        }
      },
      "source": [
        "print('Testing Data: ', test_X.shape, test_Y.shape)"
      ],
      "execution_count": 3,
      "outputs": [
        {
          "output_type": "stream",
          "text": [
            "Testing Data:  (10000, 28, 28) (10000,)\n"
          ],
          "name": "stdout"
        }
      ]
    },
    {
      "cell_type": "code",
      "metadata": {
        "id": "_huV-kkujIcn",
        "outputId": "2bdad08f-e8cd-47b7-9bf0-092a5766ef48",
        "colab": {
          "base_uri": "https://localhost:8080/",
          "height": 52
        }
      },
      "source": [
        "#cari nilai unique untuk training label 0..9\n",
        "classes = np.unique(train_Y)\n",
        "nClasses = len(classes)\n",
        "print('Total Output: ', nClasses)\n",
        "print('Output Classes: ', classes)"
      ],
      "execution_count": 4,
      "outputs": [
        {
          "output_type": "stream",
          "text": [
            "Total Output:  10\n",
            "Output Classes:  [0 1 2 3 4 5 6 7 8 9]\n"
          ],
          "name": "stdout"
        }
      ]
    },
    {
      "cell_type": "code",
      "metadata": {
        "id": "Sq_rcnwdjwFL",
        "outputId": "56f49fb8-89fa-4b5d-b7c1-1780fdad66fd",
        "colab": {
          "base_uri": "https://localhost:8080/",
          "height": 209
        }
      },
      "source": [
        "plt.figure(figsize=[5,5])\n",
        "\n",
        "#kita tampilkan dataset training\n",
        "plt.subplot(121)\n",
        "plt.imshow(train_X[0,:,:], cmap='gray')\n",
        "plt.title(\"Ground Truth: {}\".format(train_Y[0]))"
      ],
      "execution_count": 5,
      "outputs": [
        {
          "output_type": "execute_result",
          "data": {
            "text/plain": [
              "Text(0.5, 1.0, 'Ground Truth: 9')"
            ]
          },
          "metadata": {
            "tags": []
          },
          "execution_count": 5
        },
        {
          "output_type": "display_data",
          "data": {
            "image/png": "[encoded data removed]",
            "text/plain": [
              "<Figure size 360x360 with 1 Axes>"
            ]
          },
          "metadata": {
            "tags": [],
            "needs_background": "light"
          }
        }
      ]
    },
    {
      "cell_type": "code",
      "metadata": {
        "id": "DHDThbfjkZdY",
        "outputId": "0a31c8d5-0061-4cd2-e5a4-7416a0adfbb2",
        "colab": {
          "base_uri": "https://localhost:8080/",
          "height": 234
        }
      },
      "source": [
        "plt.subplot(121)\n",
        "plt.imshow(test_X[0,:,:], cmap='gray')\n",
        "plt.title(\"Ground Truth: {}\".format(test_Y[0]))"
      ],
      "execution_count": 6,
      "outputs": [
        {
          "output_type": "execute_result",
          "data": {
            "text/plain": [
              "Text(0.5, 1.0, 'Ground Truth: 9')"
            ]
          },
          "metadata": {
            "tags": []
          },
          "execution_count": 6
        },
        {
          "output_type": "display_data",
          "data": {
            "image/png": "[encoded data removed]",
            "text/plain": [
              "<Figure size 432x288 with 1 Axes>"
            ]
          },
          "metadata": {
            "tags": [],
            "needs_background": "light"
          }
        }
      ]
    },
    {
      "cell_type": "code",
      "metadata": {
        "id": "GWYbOY6IlJVw",
        "outputId": "1d00b5a3-93b9-492a-b630-3b4d657ecad2",
        "colab": {
          "base_uri": "https://localhost:8080/",
          "height": 34
        }
      },
      "source": [
        "train_X = train_X.reshape(-1,28,28,1)\n",
        "test_X = test_X.reshape(-1,28,28,1)\n",
        "train_X.shape, test_X.shape"
      ],
      "execution_count": 7,
      "outputs": [
        {
          "output_type": "execute_result",
          "data": {
            "text/plain": [
              "((60000, 28, 28, 1), (10000, 28, 28, 1))"
            ]
          },
          "metadata": {
            "tags": []
          },
          "execution_count": 7
        }
      ]
    },
    {
      "cell_type": "code",
      "metadata": {
        "id": "OZ5OVIbvll4X"
      },
      "source": [
        "#Merubah dataset menjadi grayscale\n",
        "train_X = train_X.astype('float32')\n",
        "test_X = test_X.astype('float32')\n",
        "train_X = train_X / 255.\n",
        "test_X = test_X/255."
      ],
      "execution_count": 8,
      "outputs": []
    },
    {
      "cell_type": "code",
      "metadata": {
        "id": "qj0VH3dkmDjn",
        "outputId": "cfef977f-54b8-4424-853d-0eecaba77166",
        "colab": {
          "base_uri": "https://localhost:8080/",
          "height": 263
        }
      },
      "source": [
        "#kita lihat bentuk target label\n",
        "train_Y_one_cat = to_categorical(train_Y)\n",
        "test_Y_one_cat = to_categorical(test_Y)\n",
        "train_Y_one_cat, test_Y_one_cat"
      ],
      "execution_count": 9,
      "outputs": [
        {
          "output_type": "execute_result",
          "data": {
            "text/plain": [
              "(array([[0., 0., 0., ..., 0., 0., 1.],\n",
              "        [1., 0., 0., ..., 0., 0., 0.],\n",
              "        [1., 0., 0., ..., 0., 0., 0.],\n",
              "        ...,\n",
              "        [0., 0., 0., ..., 0., 0., 0.],\n",
              "        [1., 0., 0., ..., 0., 0., 0.],\n",
              "        [0., 0., 0., ..., 0., 0., 0.]], dtype=float32),\n",
              " array([[0., 0., 0., ..., 0., 0., 1.],\n",
              "        [0., 0., 1., ..., 0., 0., 0.],\n",
              "        [0., 1., 0., ..., 0., 0., 0.],\n",
              "        ...,\n",
              "        [0., 0., 0., ..., 0., 1., 0.],\n",
              "        [0., 1., 0., ..., 0., 0., 0.],\n",
              "        [0., 0., 0., ..., 0., 0., 0.]], dtype=float32))"
            ]
          },
          "metadata": {
            "tags": []
          },
          "execution_count": 9
        }
      ]
    },
    {
      "cell_type": "code",
      "metadata": {
        "id": "l-oIG6pGmoMQ",
        "outputId": "d614a16f-dca8-4130-fee2-881212becd57",
        "colab": {
          "base_uri": "https://localhost:8080/",
          "height": 52
        }
      },
      "source": [
        "print('Original Label: ', train_Y[3])\n",
        "print('Konversi ke one_cat: ', train_Y_one_cat[3])"
      ],
      "execution_count": 10,
      "outputs": [
        {
          "output_type": "stream",
          "text": [
            "Original Label:  3\n",
            "Konversi ke one_cat:  [0. 0. 0. 1. 0. 0. 0. 0. 0. 0.]\n"
          ],
          "name": "stdout"
        }
      ]
    },
    {
      "cell_type": "code",
      "metadata": {
        "id": "VoZYD8y4m_NC"
      },
      "source": [
        "#split data training menjadi train dan validasi\n",
        "from sklearn.model_selection import train_test_split\n",
        "train_X, valid_X, train_label, valid_label = train_test_split(train_X, train_Y_one_cat, test_size=0.2, random_state=13)"
      ],
      "execution_count": 11,
      "outputs": []
    },
    {
      "cell_type": "code",
      "metadata": {
        "id": "r7oho9tSnd7J"
      },
      "source": [
        "import keras\n",
        "from keras.models import Sequential, Input, Model\n",
        "from keras.layers import Dense, Dropout, Flatten\n",
        "from keras.layers import Conv2D, MaxPooling2D\n",
        "from keras.layers.normalization import BatchNormalization\n",
        "from keras.layers.advanced_activations import LeakyReLU"
      ],
      "execution_count": 12,
      "outputs": []
    },
    {
      "cell_type": "code",
      "metadata": {
        "id": "sBHgulGkn24t"
      },
      "source": [
        "batch_size = 64\n",
        "epochs = 100\n",
        "num_classes = 10"
      ],
      "execution_count": 17,
      "outputs": []
    },
    {
      "cell_type": "code",
      "metadata": {
        "id": "Y5F9HoIPoAzJ"
      },
      "source": [
        "fashion_model = Sequential()\n",
        "fashion_model.add(Conv2D(32, kernel_size=(3,3), activation='linear', input_shape=(28,28,1), padding='same'))\n",
        "fashion_model.add(LeakyReLU(alpha=0.1))\n",
        "fashion_model.add(MaxPooling2D((2,2), padding='same'))\n",
        "fashion_model.add(Conv2D(64,(3,3),activation='linear', padding='same'))\n",
        "fashion_model.add(LeakyReLU(alpha=0.1))\n",
        "fashion_model.add(MaxPooling2D((2,2), padding='same'))\n",
        "fashion_model.add(Conv2D(128,(3,3),activation='linear', padding='same'))\n",
        "fashion_model.add(LeakyReLU(alpha=0.1))\n",
        "fashion_model.add(MaxPooling2D((2,2), padding='same'))\n",
        "fashion_model.add(Flatten())\n",
        "fashion_model.add(Dense(128, activation='linear'))\n",
        "fashion_model.add(LeakyReLU(alpha=0.1))\n",
        "fashion_model.add(Dense(num_classes, activation='softmax'))"
      ],
      "execution_count": 18,
      "outputs": []
    },
    {
      "cell_type": "code",
      "metadata": {
        "id": "2T5GPPvPpTdW",
        "outputId": "b587cc9c-4f4e-4704-e999-bafaf29c46b8",
        "colab": {
          "base_uri": "https://localhost:8080/",
          "height": 615
        }
      },
      "source": [
        "fashion_model.compile(loss=keras.losses.categorical_crossentropy, optimizer=keras.optimizers.Adam(), metrics=['accuracy'])\n",
        "fashion_model.summary()\n"
      ],
      "execution_count": 19,
      "outputs": [
        {
          "output_type": "stream",
          "text": [
            "Model: \"sequential_1\"\n",
            "_________________________________________________________________\n",
            "Layer (type)                 Output Shape              Param #   \n",
            "=================================================================\n",
            "conv2d_3 (Conv2D)            (None, 28, 28, 32)        320       \n",
            "_________________________________________________________________\n",
            "leaky_re_lu_4 (LeakyReLU)    (None, 28, 28, 32)        0         \n",
            "_________________________________________________________________\n",
            "max_pooling2d_3 (MaxPooling2 (None, 14, 14, 32)        0         \n",
            "_________________________________________________________________\n",
            "conv2d_4 (Conv2D)            (None, 14, 14, 64)        18496     \n",
            "_________________________________________________________________\n",
            "leaky_re_lu_5 (LeakyReLU)    (None, 14, 14, 64)        0         \n",
            "_________________________________________________________________\n",
            "max_pooling2d_4 (MaxPooling2 (None, 7, 7, 64)          0         \n",
            "_________________________________________________________________\n",
            "conv2d_5 (Conv2D)            (None, 7, 7, 128)         73856     \n",
            "_________________________________________________________________\n",
            "leaky_re_lu_6 (LeakyReLU)    (None, 7, 7, 128)         0         \n",
            "_________________________________________________________________\n",
            "max_pooling2d_5 (MaxPooling2 (None, 4, 4, 128)         0         \n",
            "_________________________________________________________________\n",
            "flatten_1 (Flatten)          (None, 2048)              0         \n",
            "_________________________________________________________________\n",
            "dense_2 (Dense)              (None, 128)               262272    \n",
            "_________________________________________________________________\n",
            "leaky_re_lu_7 (LeakyReLU)    (None, 128)               0         \n",
            "_________________________________________________________________\n",
            "dense_3 (Dense)              (None, 10)                1290      \n",
            "=================================================================\n",
            "Total params: 356,234\n",
            "Trainable params: 356,234\n",
            "Non-trainable params: 0\n",
            "_________________________________________________________________\n"
          ],
          "name": "stdout"
        }
      ]
    },
    {
      "cell_type": "code",
      "metadata": {
        "id": "rKHsaihGp7oo",
        "outputId": "b1bf96d6-d81b-40dc-916c-bcb78488ff52",
        "colab": {
          "base_uri": "https://localhost:8080/",
          "height": 1000
        }
      },
      "source": [
        "fashion_train = fashion_model.fit(train_X, train_label, batch_size=batch_size, epochs=epochs, \n",
        "                                  verbose=1, validation_data=(valid_X, valid_label))"
      ],
      "execution_count": 20,
      "outputs": [
        {
          "output_type": "stream",
          "text": [
            "Epoch 1/100\n",
            "750/750 [==============================] - 3s 4ms/step - loss: 0.4588 - accuracy: 0.8313 - val_loss: 0.3290 - val_accuracy: 0.8815\n",
            "Epoch 2/100\n",
            "750/750 [==============================] - 3s 4ms/step - loss: 0.2843 - accuracy: 0.8957 - val_loss: 0.2790 - val_accuracy: 0.8982\n",
            "Epoch 3/100\n",
            "750/750 [==============================] - 3s 4ms/step - loss: 0.2413 - accuracy: 0.9112 - val_loss: 0.2429 - val_accuracy: 0.9114\n",
            "Epoch 4/100\n",
            "750/750 [==============================] - 3s 4ms/step - loss: 0.2094 - accuracy: 0.9219 - val_loss: 0.2504 - val_accuracy: 0.9086\n",
            "Epoch 5/100\n",
            "750/750 [==============================] - 3s 4ms/step - loss: 0.1822 - accuracy: 0.9325 - val_loss: 0.2478 - val_accuracy: 0.9118\n",
            "Epoch 6/100\n",
            "750/750 [==============================] - 3s 4ms/step - loss: 0.1608 - accuracy: 0.9408 - val_loss: 0.2240 - val_accuracy: 0.9178\n",
            "Epoch 7/100\n",
            "750/750 [==============================] - 3s 4ms/step - loss: 0.1389 - accuracy: 0.9477 - val_loss: 0.2250 - val_accuracy: 0.9235\n",
            "Epoch 8/100\n",
            "750/750 [==============================] - 3s 4ms/step - loss: 0.1164 - accuracy: 0.9562 - val_loss: 0.2420 - val_accuracy: 0.9218\n",
            "Epoch 9/100\n",
            "750/750 [==============================] - 3s 4ms/step - loss: 0.1012 - accuracy: 0.9621 - val_loss: 0.2650 - val_accuracy: 0.9188\n",
            "Epoch 10/100\n",
            "750/750 [==============================] - 3s 4ms/step - loss: 0.0853 - accuracy: 0.9686 - val_loss: 0.2700 - val_accuracy: 0.9230\n",
            "Epoch 11/100\n",
            "750/750 [==============================] - 3s 4ms/step - loss: 0.0716 - accuracy: 0.9727 - val_loss: 0.2854 - val_accuracy: 0.9238\n",
            "Epoch 12/100\n",
            "750/750 [==============================] - 3s 4ms/step - loss: 0.0626 - accuracy: 0.9763 - val_loss: 0.3030 - val_accuracy: 0.9159\n",
            "Epoch 13/100\n",
            "750/750 [==============================] - 3s 4ms/step - loss: 0.0534 - accuracy: 0.9799 - val_loss: 0.3332 - val_accuracy: 0.9219\n",
            "Epoch 14/100\n",
            "750/750 [==============================] - 3s 4ms/step - loss: 0.0465 - accuracy: 0.9824 - val_loss: 0.3689 - val_accuracy: 0.9205\n",
            "Epoch 15/100\n",
            "750/750 [==============================] - 3s 4ms/step - loss: 0.0446 - accuracy: 0.9834 - val_loss: 0.3485 - val_accuracy: 0.9200\n",
            "Epoch 16/100\n",
            "750/750 [==============================] - 3s 4ms/step - loss: 0.0364 - accuracy: 0.9864 - val_loss: 0.4025 - val_accuracy: 0.9196\n",
            "Epoch 17/100\n",
            "750/750 [==============================] - 3s 4ms/step - loss: 0.0387 - accuracy: 0.9858 - val_loss: 0.4167 - val_accuracy: 0.9187\n",
            "Epoch 18/100\n",
            "750/750 [==============================] - 3s 4ms/step - loss: 0.0322 - accuracy: 0.9883 - val_loss: 0.4214 - val_accuracy: 0.9185\n",
            "Epoch 19/100\n",
            "750/750 [==============================] - 3s 4ms/step - loss: 0.0299 - accuracy: 0.9891 - val_loss: 0.4395 - val_accuracy: 0.9202\n",
            "Epoch 20/100\n",
            "750/750 [==============================] - 3s 4ms/step - loss: 0.0290 - accuracy: 0.9895 - val_loss: 0.4356 - val_accuracy: 0.9188\n",
            "Epoch 21/100\n",
            "750/750 [==============================] - 3s 4ms/step - loss: 0.0263 - accuracy: 0.9903 - val_loss: 0.5196 - val_accuracy: 0.9112\n",
            "Epoch 22/100\n",
            "750/750 [==============================] - 3s 4ms/step - loss: 0.0278 - accuracy: 0.9900 - val_loss: 0.4736 - val_accuracy: 0.9240\n",
            "Epoch 23/100\n",
            "750/750 [==============================] - 3s 4ms/step - loss: 0.0257 - accuracy: 0.9907 - val_loss: 0.4524 - val_accuracy: 0.9175\n",
            "Epoch 24/100\n",
            "750/750 [==============================] - 3s 4ms/step - loss: 0.0202 - accuracy: 0.9929 - val_loss: 0.5070 - val_accuracy: 0.9183\n",
            "Epoch 25/100\n",
            "750/750 [==============================] - 3s 4ms/step - loss: 0.0237 - accuracy: 0.9917 - val_loss: 0.5002 - val_accuracy: 0.9215\n",
            "Epoch 26/100\n",
            "750/750 [==============================] - 3s 4ms/step - loss: 0.0247 - accuracy: 0.9915 - val_loss: 0.5191 - val_accuracy: 0.9187\n",
            "Epoch 27/100\n",
            "750/750 [==============================] - 3s 4ms/step - loss: 0.0233 - accuracy: 0.9918 - val_loss: 0.5694 - val_accuracy: 0.9175\n",
            "Epoch 28/100\n",
            "750/750 [==============================] - 3s 4ms/step - loss: 0.0178 - accuracy: 0.9941 - val_loss: 0.5639 - val_accuracy: 0.9221\n",
            "Epoch 29/100\n",
            "750/750 [==============================] - 3s 4ms/step - loss: 0.0258 - accuracy: 0.9909 - val_loss: 0.5844 - val_accuracy: 0.9178\n",
            "Epoch 30/100\n",
            "750/750 [==============================] - 3s 4ms/step - loss: 0.0206 - accuracy: 0.9927 - val_loss: 0.5652 - val_accuracy: 0.9185\n",
            "Epoch 31/100\n",
            "750/750 [==============================] - 3s 4ms/step - loss: 0.0136 - accuracy: 0.9953 - val_loss: 0.5749 - val_accuracy: 0.9188\n",
            "Epoch 32/100\n",
            "750/750 [==============================] - 3s 4ms/step - loss: 0.0185 - accuracy: 0.9938 - val_loss: 0.5516 - val_accuracy: 0.9190\n",
            "Epoch 33/100\n",
            "750/750 [==============================] - 3s 4ms/step - loss: 0.0224 - accuracy: 0.9921 - val_loss: 0.5829 - val_accuracy: 0.9187\n",
            "Epoch 34/100\n",
            "750/750 [==============================] - 3s 4ms/step - loss: 0.0177 - accuracy: 0.9938 - val_loss: 0.6495 - val_accuracy: 0.9208\n",
            "Epoch 35/100\n",
            "750/750 [==============================] - 3s 4ms/step - loss: 0.0233 - accuracy: 0.9923 - val_loss: 0.6263 - val_accuracy: 0.9146\n",
            "Epoch 36/100\n",
            "750/750 [==============================] - 3s 4ms/step - loss: 0.0139 - accuracy: 0.9952 - val_loss: 0.6433 - val_accuracy: 0.9210\n",
            "Epoch 37/100\n",
            "750/750 [==============================] - 3s 4ms/step - loss: 0.0191 - accuracy: 0.9936 - val_loss: 0.6564 - val_accuracy: 0.9158\n",
            "Epoch 38/100\n",
            "750/750 [==============================] - 3s 4ms/step - loss: 0.0185 - accuracy: 0.9940 - val_loss: 0.6968 - val_accuracy: 0.9218\n",
            "Epoch 39/100\n",
            "750/750 [==============================] - 3s 4ms/step - loss: 0.0193 - accuracy: 0.9935 - val_loss: 0.6455 - val_accuracy: 0.9228\n",
            "Epoch 40/100\n",
            "750/750 [==============================] - 3s 4ms/step - loss: 0.0135 - accuracy: 0.9952 - val_loss: 0.6922 - val_accuracy: 0.9142\n",
            "Epoch 41/100\n",
            "750/750 [==============================] - 3s 4ms/step - loss: 0.0157 - accuracy: 0.9946 - val_loss: 0.6877 - val_accuracy: 0.9192\n",
            "Epoch 42/100\n",
            "750/750 [==============================] - 3s 4ms/step - loss: 0.0149 - accuracy: 0.9953 - val_loss: 0.7676 - val_accuracy: 0.9189\n",
            "Epoch 43/100\n",
            "750/750 [==============================] - 3s 4ms/step - loss: 0.0169 - accuracy: 0.9947 - val_loss: 0.7383 - val_accuracy: 0.9172\n",
            "Epoch 44/100\n",
            "750/750 [==============================] - 3s 4ms/step - loss: 0.0131 - accuracy: 0.9955 - val_loss: 0.6605 - val_accuracy: 0.9213\n",
            "Epoch 45/100\n",
            "750/750 [==============================] - 3s 4ms/step - loss: 0.0212 - accuracy: 0.9931 - val_loss: 0.7232 - val_accuracy: 0.9186\n",
            "Epoch 46/100\n",
            "750/750 [==============================] - 3s 4ms/step - loss: 0.0200 - accuracy: 0.9934 - val_loss: 0.7565 - val_accuracy: 0.9212\n",
            "Epoch 47/100\n",
            "750/750 [==============================] - 3s 4ms/step - loss: 0.0112 - accuracy: 0.9967 - val_loss: 0.6644 - val_accuracy: 0.9190\n",
            "Epoch 48/100\n",
            "750/750 [==============================] - 3s 4ms/step - loss: 0.0183 - accuracy: 0.9942 - val_loss: 0.6951 - val_accuracy: 0.9188\n",
            "Epoch 49/100\n",
            "750/750 [==============================] - 3s 4ms/step - loss: 0.0097 - accuracy: 0.9967 - val_loss: 0.7699 - val_accuracy: 0.9215\n",
            "Epoch 50/100\n",
            "750/750 [==============================] - 3s 4ms/step - loss: 0.0219 - accuracy: 0.9935 - val_loss: 0.7467 - val_accuracy: 0.9153\n",
            "Epoch 51/100\n",
            "750/750 [==============================] - 3s 4ms/step - loss: 0.0164 - accuracy: 0.9949 - val_loss: 0.7236 - val_accuracy: 0.9197\n",
            "Epoch 52/100\n",
            "750/750 [==============================] - 3s 4ms/step - loss: 0.0086 - accuracy: 0.9972 - val_loss: 0.7381 - val_accuracy: 0.9187\n",
            "Epoch 53/100\n",
            "750/750 [==============================] - 3s 4ms/step - loss: 0.0155 - accuracy: 0.9951 - val_loss: 0.8149 - val_accuracy: 0.9172\n",
            "Epoch 54/100\n",
            "750/750 [==============================] - 3s 4ms/step - loss: 0.0144 - accuracy: 0.9954 - val_loss: 0.7924 - val_accuracy: 0.9174\n",
            "Epoch 55/100\n",
            "750/750 [==============================] - 3s 4ms/step - loss: 0.0165 - accuracy: 0.9947 - val_loss: 0.7697 - val_accuracy: 0.9211\n",
            "Epoch 56/100\n",
            "750/750 [==============================] - 3s 4ms/step - loss: 0.0110 - accuracy: 0.9965 - val_loss: 0.7941 - val_accuracy: 0.9218\n",
            "Epoch 57/100\n",
            "750/750 [==============================] - 3s 4ms/step - loss: 0.0150 - accuracy: 0.9951 - val_loss: 0.8287 - val_accuracy: 0.9203\n",
            "Epoch 58/100\n",
            "750/750 [==============================] - 3s 4ms/step - loss: 0.0194 - accuracy: 0.9944 - val_loss: 0.8370 - val_accuracy: 0.9194\n",
            "Epoch 59/100\n",
            "750/750 [==============================] - 3s 4ms/step - loss: 0.0135 - accuracy: 0.9955 - val_loss: 0.8043 - val_accuracy: 0.9225\n",
            "Epoch 60/100\n",
            "750/750 [==============================] - 3s 4ms/step - loss: 0.0136 - accuracy: 0.9958 - val_loss: 0.8248 - val_accuracy: 0.9197\n",
            "Epoch 61/100\n",
            "750/750 [==============================] - 3s 4ms/step - loss: 0.0157 - accuracy: 0.9949 - val_loss: 0.7785 - val_accuracy: 0.9227\n",
            "Epoch 62/100\n",
            "750/750 [==============================] - 3s 4ms/step - loss: 0.0119 - accuracy: 0.9965 - val_loss: 0.8207 - val_accuracy: 0.9217\n",
            "Epoch 63/100\n",
            "750/750 [==============================] - 3s 4ms/step - loss: 0.0169 - accuracy: 0.9949 - val_loss: 0.9260 - val_accuracy: 0.9168\n",
            "Epoch 64/100\n",
            "750/750 [==============================] - 3s 4ms/step - loss: 0.0118 - accuracy: 0.9961 - val_loss: 0.8844 - val_accuracy: 0.9184\n",
            "Epoch 65/100\n",
            "750/750 [==============================] - 3s 4ms/step - loss: 0.0132 - accuracy: 0.9958 - val_loss: 0.8270 - val_accuracy: 0.9243\n",
            "Epoch 66/100\n",
            "750/750 [==============================] - 3s 4ms/step - loss: 0.0147 - accuracy: 0.9958 - val_loss: 0.8940 - val_accuracy: 0.9162\n",
            "Epoch 67/100\n",
            "750/750 [==============================] - 3s 4ms/step - loss: 0.0126 - accuracy: 0.9959 - val_loss: 0.9294 - val_accuracy: 0.9222\n",
            "Epoch 68/100\n",
            "750/750 [==============================] - 3s 4ms/step - loss: 0.0092 - accuracy: 0.9973 - val_loss: 0.8736 - val_accuracy: 0.9149\n",
            "Epoch 69/100\n",
            "750/750 [==============================] - 3s 4ms/step - loss: 0.0207 - accuracy: 0.9941 - val_loss: 0.8320 - val_accuracy: 0.9218\n",
            "Epoch 70/100\n",
            "750/750 [==============================] - 3s 4ms/step - loss: 0.0125 - accuracy: 0.9964 - val_loss: 0.8909 - val_accuracy: 0.9135\n",
            "Epoch 71/100\n",
            "750/750 [==============================] - 3s 4ms/step - loss: 0.0153 - accuracy: 0.9952 - val_loss: 0.9054 - val_accuracy: 0.9220\n",
            "Epoch 72/100\n",
            "750/750 [==============================] - 3s 4ms/step - loss: 0.0080 - accuracy: 0.9974 - val_loss: 0.9608 - val_accuracy: 0.9212\n",
            "Epoch 73/100\n",
            "750/750 [==============================] - 3s 4ms/step - loss: 0.0117 - accuracy: 0.9964 - val_loss: 1.0454 - val_accuracy: 0.9161\n",
            "Epoch 74/100\n",
            "750/750 [==============================] - 3s 4ms/step - loss: 0.0159 - accuracy: 0.9955 - val_loss: 0.9969 - val_accuracy: 0.9183\n",
            "Epoch 75/100\n",
            "750/750 [==============================] - 3s 4ms/step - loss: 0.0118 - accuracy: 0.9967 - val_loss: 0.9269 - val_accuracy: 0.9206\n",
            "Epoch 76/100\n",
            "750/750 [==============================] - 3s 4ms/step - loss: 0.0099 - accuracy: 0.9968 - val_loss: 0.9348 - val_accuracy: 0.9219\n",
            "Epoch 77/100\n",
            "750/750 [==============================] - 3s 4ms/step - loss: 0.0147 - accuracy: 0.9959 - val_loss: 0.9878 - val_accuracy: 0.9207\n",
            "Epoch 78/100\n",
            "750/750 [==============================] - 3s 4ms/step - loss: 0.0126 - accuracy: 0.9966 - val_loss: 1.0494 - val_accuracy: 0.9118\n",
            "Epoch 79/100\n",
            "750/750 [==============================] - 3s 4ms/step - loss: 0.0161 - accuracy: 0.9957 - val_loss: 1.0325 - val_accuracy: 0.9162\n",
            "Epoch 80/100\n",
            "750/750 [==============================] - 3s 4ms/step - loss: 0.0122 - accuracy: 0.9962 - val_loss: 0.9953 - val_accuracy: 0.9179\n",
            "Epoch 81/100\n",
            "750/750 [==============================] - 3s 4ms/step - loss: 0.0157 - accuracy: 0.9958 - val_loss: 0.9531 - val_accuracy: 0.9197\n",
            "Epoch 82/100\n",
            "750/750 [==============================] - 3s 4ms/step - loss: 0.0107 - accuracy: 0.9967 - val_loss: 1.0915 - val_accuracy: 0.9182\n",
            "Epoch 83/100\n",
            "750/750 [==============================] - 3s 4ms/step - loss: 0.0150 - accuracy: 0.9961 - val_loss: 1.0540 - val_accuracy: 0.9171\n",
            "Epoch 84/100\n",
            "750/750 [==============================] - 3s 4ms/step - loss: 0.0127 - accuracy: 0.9968 - val_loss: 1.0060 - val_accuracy: 0.9227\n",
            "Epoch 85/100\n",
            "750/750 [==============================] - 3s 4ms/step - loss: 0.0126 - accuracy: 0.9965 - val_loss: 1.0620 - val_accuracy: 0.9218\n",
            "Epoch 86/100\n",
            "750/750 [==============================] - 3s 4ms/step - loss: 0.0121 - accuracy: 0.9964 - val_loss: 1.0856 - val_accuracy: 0.9175\n",
            "Epoch 87/100\n",
            "750/750 [==============================] - 3s 4ms/step - loss: 0.0101 - accuracy: 0.9970 - val_loss: 1.0007 - val_accuracy: 0.9193\n",
            "Epoch 88/100\n",
            "750/750 [==============================] - 3s 4ms/step - loss: 0.0121 - accuracy: 0.9970 - val_loss: 1.0455 - val_accuracy: 0.9197\n",
            "Epoch 89/100\n",
            "750/750 [==============================] - 3s 4ms/step - loss: 0.0119 - accuracy: 0.9965 - val_loss: 1.0997 - val_accuracy: 0.9190\n",
            "Epoch 90/100\n",
            "750/750 [==============================] - 3s 4ms/step - loss: 0.0138 - accuracy: 0.9965 - val_loss: 1.0048 - val_accuracy: 0.9183\n",
            "Epoch 91/100\n",
            "750/750 [==============================] - 3s 4ms/step - loss: 0.0118 - accuracy: 0.9966 - val_loss: 1.1759 - val_accuracy: 0.9154\n",
            "Epoch 92/100\n",
            "750/750 [==============================] - 3s 4ms/step - loss: 0.0118 - accuracy: 0.9967 - val_loss: 1.1063 - val_accuracy: 0.9189\n",
            "Epoch 93/100\n",
            "750/750 [==============================] - 3s 4ms/step - loss: 0.0112 - accuracy: 0.9971 - val_loss: 1.2362 - val_accuracy: 0.9140\n",
            "Epoch 94/100\n",
            "750/750 [==============================] - 3s 4ms/step - loss: 0.0174 - accuracy: 0.9960 - val_loss: 1.1439 - val_accuracy: 0.9179\n",
            "Epoch 95/100\n",
            "750/750 [==============================] - 3s 4ms/step - loss: 0.0089 - accuracy: 0.9976 - val_loss: 1.1163 - val_accuracy: 0.9183\n",
            "Epoch 96/100\n",
            "750/750 [==============================] - 3s 4ms/step - loss: 0.0123 - accuracy: 0.9969 - val_loss: 1.1470 - val_accuracy: 0.9200\n",
            "Epoch 97/100\n",
            "750/750 [==============================] - 3s 4ms/step - loss: 0.0102 - accuracy: 0.9973 - val_loss: 1.2153 - val_accuracy: 0.9128\n",
            "Epoch 98/100\n",
            "750/750 [==============================] - 3s 4ms/step - loss: 0.0142 - accuracy: 0.9965 - val_loss: 1.3023 - val_accuracy: 0.9133\n",
            "Epoch 99/100\n",
            "750/750 [==============================] - 3s 4ms/step - loss: 0.0159 - accuracy: 0.9965 - val_loss: 1.0498 - val_accuracy: 0.9198\n",
            "Epoch 100/100\n",
            "750/750 [==============================] - 3s 4ms/step - loss: 0.0107 - accuracy: 0.9971 - val_loss: 1.1031 - val_accuracy: 0.9224\n"
          ],
          "name": "stdout"
        }
      ]
    },
    {
      "cell_type": "code",
      "metadata": {
        "id": "sTtX4kOjsFuK",
        "outputId": "a328a8e2-1546-488f-a568-d76f8b4772c3",
        "colab": {
          "base_uri": "https://localhost:8080/",
          "height": 34
        }
      },
      "source": [
        "test_eval = fashion_model.evaluate(test_X, test_Y_one_cat, verbose=1)"
      ],
      "execution_count": 21,
      "outputs": [
        {
          "output_type": "stream",
          "text": [
            "313/313 [==============================] - 1s 2ms/step - loss: 1.1239 - accuracy: 0.9185\n"
          ],
          "name": "stdout"
        }
      ]
    },
    {
      "cell_type": "code",
      "metadata": {
        "id": "U5QiOwfvsVmM",
        "outputId": "bde7cfe1-791a-4ed8-c857-5341a99eb2a8",
        "colab": {
          "base_uri": "https://localhost:8080/",
          "height": 52
        }
      },
      "source": [
        "print('Test Loss: ', test_eval[0])\n",
        "print('Test Accuracy: ', test_eval[1])"
      ],
      "execution_count": 22,
      "outputs": [
        {
          "output_type": "stream",
          "text": [
            "Test Loss:  1.123928427696228\n",
            "Test Accuracy:  0.9185000061988831\n"
          ],
          "name": "stdout"
        }
      ]
    },
    {
      "cell_type": "code",
      "metadata": {
        "id": "2yuOv9Hssglw",
        "outputId": "ada70809-2121-4225-abe0-6cff2000ef0d",
        "colab": {
          "base_uri": "https://localhost:8080/",
          "height": 298
        }
      },
      "source": [
        "#gambarkan proses training\n",
        "accuracy = fashion_train.history['accuracy']\n",
        "val_accuracy = fashion_train.history['val_accuracy']\n",
        "loss = fashion_train.history['loss']\n",
        "val_loss = fashion_train.history['val_loss']\n",
        "epochs = range(len(accuracy))\n",
        "plt.plot(epochs, accuracy, 'b', c='red', label='training accuracy')\n",
        "plt.plot(epochs, val_accuracy, 'b', c='green', label='validation training accuracy')\n",
        "plt.title('Grafik accuracy dan validasinya')\n",
        "plt.legend()\n"
      ],
      "execution_count": 29,
      "outputs": [
        {
          "output_type": "execute_result",
          "data": {
            "text/plain": [
              "<matplotlib.legend.Legend at 0x7fc5ff655470>"
            ]
          },
          "metadata": {
            "tags": []
          },
          "execution_count": 29
        },
        {
          "output_type": "display_data",
          "data": {
            "image/png": "[encoded data removed]",
            "text/plain": [
              "<Figure size 432x288 with 1 Axes>"
            ]
          },
          "metadata": {
            "tags": [],
            "needs_background": "light"
          }
        }
      ]
    },
    {
      "cell_type": "code",
      "metadata": {
        "id": "BNA91_jltjs_",
        "outputId": "9bffbb3c-3eea-41d2-8d90-c8e76ddbabee",
        "colab": {
          "base_uri": "https://localhost:8080/",
          "height": 298
        }
      },
      "source": [
        "plt.plot(epochs, loss, 'b', c='red', label='training loss')\n",
        "plt.plot(epochs, val_loss, 'b', c='green', label='validation training loss')\n",
        "plt.title('Grafik lost dan validasinya')\n",
        "plt.legend()"
      ],
      "execution_count": 30,
      "outputs": [
        {
          "output_type": "execute_result",
          "data": {
            "text/plain": [
              "<matplotlib.legend.Legend at 0x7fc59a335e80>"
            ]
          },
          "metadata": {
            "tags": []
          },
          "execution_count": 30
        },
        {
          "output_type": "display_data",
          "data": {
            "image/png": "[encoded data removed]",
            "text/plain": [
              "<Figure size 432x288 with 1 Axes>"
            ]
          },
          "metadata": {
            "tags": [],
            "needs_background": "light"
          }
        }
      ]
    }
  ]
}